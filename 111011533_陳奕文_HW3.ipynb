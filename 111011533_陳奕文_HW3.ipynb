{
  "nbformat": 4,
  "nbformat_minor": 0,
  "metadata": {
    "colab": {
      "provenance": [],
      "gpuType": "T4",
      "include_colab_link": true
    },
    "kernelspec": {
      "name": "python3",
      "display_name": "Python 3"
    },
    "language_info": {
      "name": "python"
    },
    "accelerator": "GPU"
  },
  "cells": [
    {
      "cell_type": "markdown",
      "metadata": {
        "id": "view-in-github",
        "colab_type": "text"
      },
      "source": [
        "<a href=\"https://colab.research.google.com/github/YWCH890516/113_DLBOI_Homework3/blob/main/111011533_%E9%99%B3%E5%A5%95%E6%96%87_HW3.ipynb\" target=\"_parent\"><img src=\"https://colab.research.google.com/assets/colab-badge.svg\" alt=\"Open In Colab\"/></a>"
      ]
    },
    {
      "cell_type": "markdown",
      "source": [
        "# Import Library"
      ],
      "metadata": {
        "id": "8dBIMBMpa8LZ"
      }
    },
    {
      "cell_type": "code",
      "execution_count": null,
      "metadata": {
        "id": "XdshpulRajCG"
      },
      "outputs": [],
      "source": [
        "import matplotlib.pyplot as plt\n",
        "import numpy as np\n",
        "import random\n",
        "import time\n",
        "import torch\n",
        "import torch.nn as nn\n",
        "import torch.optim as optims\n",
        "\n",
        "from sklearn.metrics import accuracy_score\n",
        "from torch.utils.data import DataLoader\n",
        "from torchvision import datasets, transforms\n",
        "from torchvision.transforms.functional import InterpolationMode"
      ]
    },
    {
      "cell_type": "code",
      "source": [
        "device = torch.device('cuda')\n",
        "gpu_count = torch.cuda.device_count()\n",
        "\n",
        "print(\"Using\", gpu_count, \"GPUs\")\n",
        "print(\"CUDA is available:\", torch.cuda.is_available())"
      ],
      "metadata": {
        "id": "nwp7lRWlbX_s",
        "colab": {
          "base_uri": "https://localhost:8080/"
        },
        "outputId": "08b2a31e-7cc5-4f13-c7ed-cc131e1d1c05"
      },
      "execution_count": null,
      "outputs": [
        {
          "output_type": "stream",
          "name": "stdout",
          "text": [
            "Using 1 GPUs\n",
            "CUDA is available: True\n"
          ]
        }
      ]
    },
    {
      "cell_type": "code",
      "source": [
        "# train loop\n",
        "def train_one_epoch(model, device, criterion, optimizer, train_data_loader):\n",
        "    epoch_loss = []\n",
        "    epoch_acc = []\n",
        "    start_time = time.time()\n",
        "\n",
        "    model.train()\n",
        "\n",
        "    for batch_idx, (images, labels) in enumerate (train_data_loader):\n",
        "        images = images.to(device)\n",
        "        labels = labels.to(device).float()\n",
        "        optimizer.zero_grad()\n",
        "        preds = model(images)\n",
        "        loss = criterion(preds, labels.unsqueeze(1))\n",
        "\n",
        "        # Calculating Loss\n",
        "        epoch_loss.append(loss.item())\n",
        "\n",
        "        # Calculating Metrics\n",
        "        predicts = (preds > 0.5).float()\n",
        "        predicts = predicts.view(-1)\n",
        "        predicts = predicts.detach().cpu().numpy()\n",
        "        labels = labels.detach().cpu().numpy()\n",
        "        acc = accuracy_score(labels, predicts)\n",
        "\n",
        "        epoch_acc.append(acc)\n",
        "\n",
        "        # Backpropagation\n",
        "        loss.backward()\n",
        "        optimizer.step()\n",
        "\n",
        "    # Overall Epoch Results\n",
        "    end_time = time.time()\n",
        "    total_time = end_time - start_time\n",
        "\n",
        "    epoch_loss = np.mean(epoch_loss)\n",
        "    epoch_acc = np.mean(epoch_acc) * 100\n",
        "\n",
        "    return epoch_loss, epoch_acc, total_time\n",
        "\n",
        "# validation loop\n",
        "def val_one_epoch(model, device, criterion, val_data_loader, best_acc, save):\n",
        "    epoch_loss = []\n",
        "    epoch_acc = []\n",
        "    start_time = time.time()\n",
        "\n",
        "    model.eval()\n",
        "\n",
        "    with torch.no_grad():\n",
        "        for images, labels in val_data_loader:\n",
        "            images = images.to(device)\n",
        "            labels = labels.to(device).float()\n",
        "            preds = model(images)\n",
        "\n",
        "            # Calculating Loss\n",
        "            loss = criterion(preds, labels.unsqueeze(1))\n",
        "            epoch_loss.append(loss.item())\n",
        "\n",
        "            # Calculating Metrics\n",
        "            predicts = (preds > 0.5).float()\n",
        "            predicts = predicts.view(-1)\n",
        "            predicts = predicts.detach().cpu().numpy()\n",
        "            labels = labels.detach().cpu().numpy()\n",
        "            acc = accuracy_score(labels, predicts)\n",
        "            epoch_acc.append(acc)\n",
        "\n",
        "    # Overall Epoch Results\n",
        "    end_time = time.time()\n",
        "    total_time = end_time - start_time\n",
        "\n",
        "    epoch_loss = np.mean(epoch_loss)\n",
        "    epoch_acc = np.mean(epoch_acc) * 100\n",
        "\n",
        "    # Saving best model\n",
        "    if epoch_acc > best_acc:\n",
        "        best_acc = epoch_acc\n",
        "        torch.save(model.state_dict(), f\"{save}.pth\")\n",
        "\n",
        "    return epoch_loss, epoch_acc, total_time, best_acc\n",
        "\n",
        "# evaluate loop (test loop)\n",
        "def evaluate(model, device, model_path, test_loader):\n",
        "    try:\n",
        "        model.load_state_dict(torch.load(model_path))\n",
        "        print(\"Model weights loaded successfully.\")\n",
        "    except Exception as e:\n",
        "        print(\"Warning: Failed to load model weights. Using randomly initialized weights instead.\")\n",
        "        print(e)\n",
        "\n",
        "    model.to(device)\n",
        "    model.eval()\n",
        "\n",
        "    test_loss = []\n",
        "    test_acc = []\n",
        "\n",
        "    with torch.no_grad():\n",
        "        for images, labels in test_loader:\n",
        "            images = images.to(device)\n",
        "            labels = labels.to(device).float()\n",
        "\n",
        "            # Forward pass\n",
        "            preds = model(images)\n",
        "\n",
        "            # Calculating loss\n",
        "            loss = criterion(preds, labels.unsqueeze(1))\n",
        "            test_loss.append(loss.item())\n",
        "\n",
        "            # Calculating accuracy\n",
        "            predicts = (preds > 0.5).float()\n",
        "            predicts = predicts.view(-1)\n",
        "            predicts = predicts.detach().cpu().numpy()\n",
        "            labels = labels.detach().cpu().numpy()\n",
        "            acc = accuracy_score(labels, predicts)\n",
        "            test_acc.append(acc)\n",
        "\n",
        "    # Overall test results\n",
        "    avg_test_loss = np.mean(test_loss)\n",
        "    avg_test_acc = np.mean(test_acc) * 100\n",
        "\n",
        "    print(f\"Test Accuracy: {avg_test_acc:.2f}%\")\n",
        "    print(f\"Test Loss: {avg_test_loss:.4f}\")\n",
        "\n",
        "    return avg_test_loss, avg_test_acc"
      ],
      "metadata": {
        "id": "O-QHGGMMbBur"
      },
      "execution_count": null,
      "outputs": []
    },
    {
      "cell_type": "markdown",
      "source": [
        "# Data Preparation"
      ],
      "metadata": {
        "id": "V5Mz1-uybSmC"
      }
    },
    {
      "cell_type": "code",
      "source": [
        "from google.colab import drive\n",
        "drive.mount('/content/drive/')"
      ],
      "metadata": {
        "id": "rWULx9svbXJD",
        "colab": {
          "base_uri": "https://localhost:8080/"
        },
        "outputId": "45577a77-2dea-40f7-d84c-f7d33bb341e1"
      },
      "execution_count": null,
      "outputs": [
        {
          "output_type": "stream",
          "name": "stdout",
          "text": [
            "Mounted at /content/drive/\n"
          ]
        }
      ]
    },
    {
      "cell_type": "code",
      "source": [
        "# define folder path for each set\n",
        "train_path = '/content/drive/MyDrive/NTHU/DLBOI/HW3/train'\n",
        "test_path = '/content/drive/MyDrive/NTHU/DLBOI/HW3/test'\n",
        "val_path = '/content/drive/MyDrive/NTHU/DLBOI/HW3/val'\n",
        "\n",
        "# define transformation\n",
        "train_transform = transforms.Compose([\n",
        "    transforms.Resize((256, 256), interpolation=InterpolationMode.BICUBIC),\n",
        "    transforms.Grayscale(num_output_channels=1),\n",
        "    transforms.ToTensor(),\n",
        "])\n",
        "\n",
        "common_transform = transforms.Compose([\n",
        "    transforms.Resize((256, 256), interpolation=InterpolationMode.BICUBIC),\n",
        "    transforms.Grayscale(num_output_channels=1),\n",
        "    transforms.ToTensor(),\n",
        "])\n",
        "\n",
        "# create datasets\n",
        "train_dataset = datasets.ImageFolder(train_path, transform=train_transform)\n",
        "test_dataset = datasets.ImageFolder(test_path, transform=common_transform)\n",
        "val_dataset = datasets.ImageFolder(val_path, transform=common_transform)\n",
        "\n",
        "# create dataloaders\n",
        "train_loader = DataLoader(train_dataset, batch_size=128, shuffle=True)\n",
        "val_loader = DataLoader(val_dataset, batch_size=128, shuffle=False)\n",
        "test_loader = DataLoader(test_dataset, batch_size=128, shuffle=False)"
      ],
      "metadata": {
        "id": "DpL62qzsbkcj"
      },
      "execution_count": null,
      "outputs": []
    },
    {
      "cell_type": "markdown",
      "source": [
        "# Model"
      ],
      "metadata": {
        "id": "QxPrGZFPmvoO"
      }
    },
    {
      "cell_type": "code",
      "source": [
        "model = nn.Sequential(\n",
        "    nn.Flatten(),\n",
        "    nn.Linear(256 * 256 * 1, 128),\n",
        "    nn.BatchNorm1d(128),\n",
        "    nn.ReLU(),\n",
        "    nn.Dropout(0.4),\n",
        "\n",
        "    nn.Linear(128, 64),\n",
        "    nn.BatchNorm1d(64),\n",
        "    nn.ReLU(),\n",
        "    nn.Dropout(0.5),\n",
        "\n",
        "    nn.Linear(64, 64),\n",
        "    nn.BatchNorm1d(64),\n",
        "    nn.ReLU(),\n",
        "    nn.Dropout(0.5),\n",
        "\n",
        "    nn.Linear(64, 1),\n",
        "    nn.Sigmoid()\n",
        ")\n",
        "\n",
        "model.to(device)\n",
        "print(model)"
      ],
      "metadata": {
        "id": "ml-6AVUimusM",
        "colab": {
          "base_uri": "https://localhost:8080/"
        },
        "outputId": "0b3d4237-9ea8-4ec8-8b14-f4258523db53"
      },
      "execution_count": null,
      "outputs": [
        {
          "output_type": "stream",
          "name": "stdout",
          "text": [
            "Sequential(\n",
            "  (0): Flatten(start_dim=1, end_dim=-1)\n",
            "  (1): Linear(in_features=65536, out_features=128, bias=True)\n",
            "  (2): BatchNorm1d(128, eps=1e-05, momentum=0.1, affine=True, track_running_stats=True)\n",
            "  (3): ReLU()\n",
            "  (4): Dropout(p=0.4, inplace=False)\n",
            "  (5): Linear(in_features=128, out_features=64, bias=True)\n",
            "  (6): BatchNorm1d(64, eps=1e-05, momentum=0.1, affine=True, track_running_stats=True)\n",
            "  (7): ReLU()\n",
            "  (8): Dropout(p=0.5, inplace=False)\n",
            "  (9): Linear(in_features=64, out_features=64, bias=True)\n",
            "  (10): BatchNorm1d(64, eps=1e-05, momentum=0.1, affine=True, track_running_stats=True)\n",
            "  (11): ReLU()\n",
            "  (12): Dropout(p=0.5, inplace=False)\n",
            "  (13): Linear(in_features=64, out_features=1, bias=True)\n",
            "  (14): Sigmoid()\n",
            ")\n"
          ]
        }
      ]
    },
    {
      "cell_type": "markdown",
      "source": [
        "# Loop"
      ],
      "metadata": {
        "id": "SdTAY4X1CXUu"
      }
    },
    {
      "cell_type": "code",
      "source": [
        "# hyperparameter\n",
        "lr = 0.00005\n",
        "weight_decay = 0.1\n",
        "#lr_scheduler = optims.lr_scheduler.ReduceLROnPlateau(optimizer, factor=0.1, patience=5, mode='max')\n",
        "epochs = 14\n",
        "optimizer = optims.Adam(model.parameters(), lr=lr, weight_decay = weight_decay)\n",
        "lr_scheduler = optims.lr_scheduler.ReduceLROnPlateau(optimizer, factor=0.1, patience=5, mode='max')\n",
        "criterion = nn.BCELoss()\n",
        "\n",
        "# save checkpoint\n",
        "save = 'model'"
      ],
      "metadata": {
        "id": "w_EzCFAjCWp9"
      },
      "execution_count": null,
      "outputs": []
    },
    {
      "cell_type": "code",
      "source": [
        "train_losses = []\n",
        "val_losses = []\n",
        "train_accuracies = []\n",
        "val_accuracies = []\n",
        "\n",
        "best_acc = 0.0\n",
        "output_list = []\n",
        "\n",
        "for epoch in range(epochs):\n",
        "    train_loss, train_acc, train_time = train_one_epoch(model, device, criterion, optimizer, train_loader)\n",
        "    val_loss, val_acc, val_time, best_acc = val_one_epoch(model, device, criterion, val_loader, best_acc, save)\n",
        "\n",
        "    train_losses.append(train_loss)\n",
        "    val_losses.append(val_loss)\n",
        "    train_accuracies.append(train_acc)\n",
        "    val_accuracies.append(val_acc)\n",
        "\n",
        "    total_time = train_time + val_time\n",
        "    output_str = f\"Epoch {epoch+1}/{epochs} - loss: {train_loss:.4f} - train_acc: {train_acc:.2f}% - val_loss: {val_loss:.4f} - val_acc: {val_acc:.2f}% - time: {total_time:.2f}s\"\n",
        "    output_list.append(output_str)\n",
        "    print(output_str)\n",
        "    lr_scheduler.step(val_acc)"
      ],
      "metadata": {
        "id": "oxdqJu8wCae3",
        "colab": {
          "base_uri": "https://localhost:8080/"
        },
        "outputId": "53d10c98-321e-429b-9054-fd2231d5d08b"
      },
      "execution_count": null,
      "outputs": [
        {
          "output_type": "stream",
          "name": "stdout",
          "text": [
            "Epoch 1/14 - loss: 0.5983 - train_acc: 71.17% - val_loss: 0.6374 - val_acc: 75.00% - time: 365.75s\n",
            "Epoch 2/14 - loss: 0.5424 - train_acc: 78.60% - val_loss: 0.5994 - val_acc: 87.50% - time: 67.65s\n",
            "Epoch 3/14 - loss: 0.5224 - train_acc: 81.85% - val_loss: 0.6153 - val_acc: 81.25% - time: 67.34s\n",
            "Epoch 4/14 - loss: 0.5087 - train_acc: 82.22% - val_loss: 0.6059 - val_acc: 81.25% - time: 67.42s\n",
            "Epoch 5/14 - loss: 0.4945 - train_acc: 85.32% - val_loss: 0.5987 - val_acc: 81.25% - time: 65.64s\n",
            "Epoch 6/14 - loss: 0.4819 - train_acc: 85.59% - val_loss: 0.5984 - val_acc: 68.75% - time: 68.07s\n",
            "Epoch 7/14 - loss: 0.4717 - train_acc: 87.76% - val_loss: 0.6066 - val_acc: 81.25% - time: 67.01s\n",
            "Epoch 8/14 - loss: 0.4597 - train_acc: 87.92% - val_loss: 0.5740 - val_acc: 87.50% - time: 68.53s\n",
            "Epoch 9/14 - loss: 0.4537 - train_acc: 89.01% - val_loss: 0.5652 - val_acc: 87.50% - time: 66.81s\n",
            "Epoch 10/14 - loss: 0.4520 - train_acc: 88.69% - val_loss: 0.5551 - val_acc: 81.25% - time: 66.67s\n",
            "Epoch 11/14 - loss: 0.4443 - train_acc: 89.80% - val_loss: 0.5583 - val_acc: 87.50% - time: 67.25s\n",
            "Epoch 12/14 - loss: 0.4437 - train_acc: 90.67% - val_loss: 0.5593 - val_acc: 93.75% - time: 67.37s\n",
            "Epoch 13/14 - loss: 0.4395 - train_acc: 88.96% - val_loss: 0.5441 - val_acc: 87.50% - time: 65.76s\n",
            "Epoch 14/14 - loss: 0.4429 - train_acc: 89.88% - val_loss: 0.5455 - val_acc: 93.75% - time: 67.47s\n"
          ]
        }
      ]
    },
    {
      "cell_type": "markdown",
      "source": [
        "# Graph"
      ],
      "metadata": {
        "id": "UGz-VUPmCgf4"
      }
    },
    {
      "cell_type": "code",
      "source": [
        "plt.figure(figsize=(12, 5))\n",
        "\n",
        "# loss graph\n",
        "plt.subplot(1, 2, 1)\n",
        "plt.plot(train_losses, label='Train Loss')\n",
        "plt.plot(val_losses, label='Validation Loss')\n",
        "plt.title('Loss Curve')\n",
        "plt.xlabel('Epochs')\n",
        "plt.ylabel('Loss')\n",
        "plt.legend()\n",
        "\n",
        "# accuracy graph\n",
        "plt.subplot(1, 2, 2)\n",
        "plt.plot(train_accuracies, label='Train Accuracy')\n",
        "plt.plot(val_accuracies, label='Validation Accuracy')\n",
        "plt.title('Accuracy Curve')\n",
        "plt.xlabel('Epochs')\n",
        "plt.ylabel('Accuracy (%)')\n",
        "plt.legend()\n",
        "\n",
        "# show\n",
        "plt.tight_layout()\n",
        "plt.show()"
      ],
      "metadata": {
        "id": "an1QmoF0CjAV",
        "colab": {
          "base_uri": "https://localhost:8080/",
          "height": 507
        },
        "outputId": "2a696f78-7b81-41b7-d99c-35fdad8f0cda"
      },
      "execution_count": null,
      "outputs": [
        {
          "output_type": "display_data",
          "data": {
            "text/plain": [
              "<Figure size 1200x500 with 2 Axes>"
            ],
            "image/png": "[encoded data removed]"
          },
          "metadata": {}
        }
      ]
    },
    {
      "cell_type": "markdown",
      "source": [
        "# Evaluate"
      ],
      "metadata": {
        "id": "W5W5mX4KH0eg"
      }
    },
    {
      "cell_type": "code",
      "source": [
        "model_path = 'model.pth'\n",
        "avg_test_loss, avg_test_acc = evaluate(model, device, model_path, test_loader)"
      ],
      "metadata": {
        "id": "50oemy4aH2nW",
        "colab": {
          "base_uri": "https://localhost:8080/"
        },
        "outputId": "90ac4fef-8af2-4f29-a5fd-fddcd4d4badc"
      },
      "execution_count": null,
      "outputs": [
        {
          "output_type": "stream",
          "name": "stderr",
          "text": [
            "<ipython-input-3-54ee45e3a212>:84: FutureWarning: You are using `torch.load` with `weights_only=False` (the current default value), which uses the default pickle module implicitly. It is possible to construct malicious pickle data which will execute arbitrary code during unpickling (See https://github.com/pytorch/pytorch/blob/main/SECURITY.md#untrusted-models for more details). In a future release, the default value for `weights_only` will be flipped to `True`. This limits the functions that could be executed during unpickling. Arbitrary objects will no longer be allowed to be loaded via this mode unless they are explicitly allowlisted by the user via `torch.serialization.add_safe_globals`. We recommend you start setting `weights_only=True` for any use case where you don't have full control of the loaded file. Please open an issue on GitHub for any issues related to this experimental feature.\n",
            "  model.load_state_dict(torch.load(model_path))\n"
          ]
        },
        {
          "output_type": "stream",
          "name": "stdout",
          "text": [
            "Model weights loaded successfully.\n",
            "Test Accuracy: 83.55%\n",
            "Test Loss: 0.5096\n"
          ]
        }
      ]
    }
  ]
}